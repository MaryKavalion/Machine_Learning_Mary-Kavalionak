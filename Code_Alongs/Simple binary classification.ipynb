{
 "cells": [
  {
   "cell_type": "code",
   "execution_count": 83,
   "metadata": {},
   "outputs": [],
   "source": [
    "import numpy as np\n",
    "import matplotlib.pyplot as plt\n",
    "import seaborn as sns"
   ]
  },
  {
   "cell_type": "code",
   "execution_count": 84,
   "metadata": {},
   "outputs": [],
   "source": [
    "x_train = np.array([[10,50], [20,30], [25,30], [20,60], [15, 70], [40,40], [30, 45], [20,45], [40,30], [7,35]])\n",
    "y_train = np.array([-1, 1, 1, -1, -1, 1, 1, -1, 1, -1])\n",
    "\n",
    "n_train = len(x_train)\n",
    "w = [0, -1] #initial value\n",
    "a = lambda x: np.sign(x[0]*w[0] + x[1]*w[1])"
   ]
  },
  {
   "cell_type": "code",
   "execution_count": 85,
   "metadata": {},
   "outputs": [
    {
     "name": "stdout",
     "output_type": "stream",
     "text": [
      "Help on ufunc:\n",
      "\n",
      "sign = <ufunc 'sign'>\n",
      "    sign(x, /, out=None, *, where=True, casting='same_kind', order='K', dtype=None, subok=True[, signature, extobj])\n",
      "    \n",
      "    Returns an element-wise indication of the sign of a number.\n",
      "    \n",
      "    The `sign` function returns ``-1 if x < 0, 0 if x==0, 1 if x > 0``.  nan\n",
      "    is returned for nan inputs.\n",
      "    \n",
      "    For complex inputs, the `sign` function returns\n",
      "    ``sign(x.real) + 0j if x.real != 0 else sign(x.imag) + 0j``.\n",
      "    \n",
      "    complex(nan, 0) is returned for complex nan inputs.\n",
      "    \n",
      "    Parameters\n",
      "    ----------\n",
      "    x : array_like\n",
      "        Input values.\n",
      "    out : ndarray, None, or tuple of ndarray and None, optional\n",
      "        A location into which the result is stored. If provided, it must have\n",
      "        a shape that the inputs broadcast to. If not provided or None,\n",
      "        a freshly-allocated array is returned. A tuple (possible only as a\n",
      "        keyword argument) must have length equal to the number of outputs.\n",
      "    where : array_like, optional\n",
      "        This condition is broadcast over the input. At locations where the\n",
      "        condition is True, the `out` array will be set to the ufunc result.\n",
      "        Elsewhere, the `out` array will retain its original value.\n",
      "        Note that if an uninitialized `out` array is created via the default\n",
      "        ``out=None``, locations within it where the condition is False will\n",
      "        remain uninitialized.\n",
      "    **kwargs\n",
      "        For other keyword-only arguments, see the\n",
      "        :ref:`ufunc docs <ufuncs.kwargs>`.\n",
      "    \n",
      "    Returns\n",
      "    -------\n",
      "    y : ndarray\n",
      "        The sign of `x`.\n",
      "        This is a scalar if `x` is a scalar.\n",
      "    \n",
      "    Notes\n",
      "    -----\n",
      "    There is more than one definition of sign in common use for complex\n",
      "    numbers.  The definition used here is equivalent to :math:`x/\\sqrt{x*x}`\n",
      "    which is different from a common alternative, :math:`x/|x|`.\n",
      "    \n",
      "    Examples\n",
      "    --------\n",
      "    >>> np.sign([-5., 4.5])\n",
      "    array([-1.,  1.])\n",
      "    >>> np.sign(0)\n",
      "    0\n",
      "    >>> np.sign(5-2j)\n",
      "    (1+0j)\n",
      "\n"
     ]
    }
   ],
   "source": [
    "help(np.sign)"
   ]
  },
  {
   "cell_type": "code",
   "execution_count": 86,
   "metadata": {},
   "outputs": [],
   "source": [
    "N = 50 #max number iterations\n",
    "L= 0.1 #step\n",
    "e = -0.1\n",
    "\n",
    "last_error_index = -1"
   ]
  },
  {
   "cell_type": "code",
   "execution_count": 87,
   "metadata": {},
   "outputs": [
    {
     "name": "stdout",
     "output_type": "stream",
     "text": [
      "1\n",
      "[2.1, -1]\n"
     ]
    }
   ],
   "source": [
    "for n in range (N):\n",
    "    for i in range(n_train):\n",
    "        if y_train[i]*a(x_train[i]) < 0: # if classification error\n",
    "            w[0] = w[0] + L + y_train[i] # correct weights\n",
    "            last_error_index = i\n",
    "\n",
    "    Q = sum([1 for i in range (n_train) if y_train[i]*a(x_train[i])<0])\n",
    "    if Q == 0:\n",
    "        break\n",
    "\n",
    "if last_error_index > -1:\n",
    "    print (y_train[last_error_index])\n",
    "    w[0] = w[0] + e*y_train[last_error_index] # change the line a little bit not to cross the last object\n",
    "\n",
    "print(w)"
   ]
  },
  {
   "cell_type": "code",
   "execution_count": 88,
   "metadata": {},
   "outputs": [],
   "source": [
    "# classification line\n",
    "line_x = list(range(max(x_train[:, 0])))\n",
    "line_y = [w[0]* x for x in line_x]\n",
    "\n",
    "# training dots\n",
    "x_o = x_train[y_train == 1]\n",
    "x_1 = x_train[y_train == -1]"
   ]
  },
  {
   "cell_type": "code",
   "execution_count": 89,
   "metadata": {},
   "outputs": [
    {
     "data": {
      "image/png": "[encoded data removed]",
      "text/plain": [
       "<Figure size 640x480 with 1 Axes>"
      ]
     },
     "metadata": {},
     "output_type": "display_data"
    }
   ],
   "source": [
    "plt.scatter(x_o[:, 0], x_o[:,1], color = 'red')\n",
    "plt.scatter(x_1[:, 0], x_1[:, 1], color = 'blue')\n",
    "plt.plot(line_x, line_y, color = 'purple')\n",
    "\n",
    "plt.xlim ([0, 45])\n",
    "plt.ylim ([0, 75])\n",
    "plt.ylabel(\"length\")\n",
    "plt.xlabel(\"width\")\n",
    "plt.grid(True)\n",
    "plt.show()"
   ]
  }
 ],
 "metadata": {
  "kernelspec": {
   "display_name": "GitHub-ARbJjTr-",
   "language": "python",
   "name": "python3"
  },
  "language_info": {
   "codemirror_mode": {
    "name": "ipython",
    "version": 3
   },
   "file_extension": ".py",
   "mimetype": "text/x-python",
   "name": "python",
   "nbconvert_exporter": "python",
   "pygments_lexer": "ipython3",
   "version": "3.11.5"
  }
 },
 "nbformat": 4,
 "nbformat_minor": 2
}
