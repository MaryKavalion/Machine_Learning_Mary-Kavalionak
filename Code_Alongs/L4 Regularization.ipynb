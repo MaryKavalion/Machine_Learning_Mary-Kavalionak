{
 "cells": [
  {
   "cell_type": "code",
   "execution_count": 1,
   "metadata": {},
   "outputs": [
    {
     "name": "stderr",
     "output_type": "stream",
     "text": [
      "C:\\Users\\Mary\\AppData\\Local\\Temp\\ipykernel_5620\\2151744951.py:1: DeprecationWarning: \n",
      "Pyarrow will become a required dependency of pandas in the next major release of pandas (pandas 3.0),\n",
      "(to allow more performant data types, such as the Arrow string type, and better interoperability with other libraries)\n",
      "but was not found to be installed on your system.\n",
      "If this would cause problems for you,\n",
      "please provide us feedback at https://github.com/pandas-dev/pandas/issues/54466\n",
      "        \n",
      "  import pandas as pd\n"
     ]
    }
   ],
   "source": [
    "import pandas as pd\n",
    "import numpy as np\n",
    "import matplotlib.pyplot as plt"
   ]
  },
  {
   "cell_type": "markdown",
   "metadata": {},
   "source": [
    "## Data preparation"
   ]
  },
  {
   "cell_type": "code",
   "execution_count": 2,
   "metadata": {},
   "outputs": [
    {
     "data": {
      "text/plain": [
       "((134, 19), (66, 19), (134,), (66,))"
      ]
     },
     "execution_count": 2,
     "metadata": {},
     "output_type": "execute_result"
    }
   ],
   "source": [
    "from sklearn.model_selection import train_test_split\n",
    "from sklearn.preprocessing import PolynomialFeatures\n",
    "\n",
    "df = pd.read_csv(\"../Data/Advertising.csv\", index_col = 0)\n",
    "X, y = df.drop(\"Sales\", axis = 1), df[\"Sales\"]\n",
    "\n",
    "model_polynomial = PolynomialFeatures(3, include_bias = False)\n",
    "poly_features = model_polynomial.fit_transform(X)\n",
    "\n",
    "X_train, X_test, y_train, y_test = train_test_split(poly_features, y, test_size = 0.33, random_state = 42)\n",
    "\n",
    "X_train.shape, X_test.shape, y_train.shape, y_test.shape"
   ]
  },
  {
   "cell_type": "markdown",
   "metadata": {},
   "source": [
    "## Feature standardization"
   ]
  },
  {
   "cell_type": "markdown",
   "metadata": {},
   "source": [
    "LASSO, Ridge and Elasticnet regressions require that the data is scaled."
   ]
  },
  {
   "cell_type": "code",
   "execution_count": 3,
   "metadata": {},
   "outputs": [],
   "source": [
    "from sklearn.preprocessing import StandardScaler\n",
    "\n",
    "scaler = StandardScaler()\n",
    "scaled_X_train = scaler.fit_transform(X_train)\n",
    "scaled_X_test = scaler.transform(X_test)"
   ]
  },
  {
   "cell_type": "markdown",
   "metadata": {},
   "source": [
    "## Ridge regression (linear regression with L2 regularization)"
   ]
  },
  {
   "cell_type": "code",
   "execution_count": 4,
   "metadata": {},
   "outputs": [
    {
     "data": {
      "text/plain": [
       "(0.6109310380379477, 0.4845959994544089)"
      ]
     },
     "execution_count": 4,
     "metadata": {},
     "output_type": "execute_result"
    }
   ],
   "source": [
    "from sklearn.linear_model import Ridge\n",
    "from sklearn.metrics import mean_squared_error, mean_absolute_error\n",
    "\n",
    "def ridge_regression(X, penalty = 0):\n",
    "    model_ridge = Ridge(alpha = penalty)\n",
    "    model_ridge.fit(scaled_X_train, y_train)\n",
    "    y_pred = model_ridge.predict(X)\n",
    "    return y_pred\n",
    "\n",
    "y_pred = ridge_regression(scaled_X_test, penalty = 0.2)\n",
    "MSE = mean_squared_error (y_test, y_pred)\n",
    "RMSE = np.sqrt (MSE)\n",
    "\n",
    "RMSE, mean_absolute_error(y_test, y_pred)"
   ]
  },
  {
   "cell_type": "code",
   "execution_count": 5,
   "metadata": {},
   "outputs": [
    {
     "data": {
      "text/plain": [
       "(0.5148267621786614, 0.3748516441217832)"
      ]
     },
     "execution_count": 5,
     "metadata": {},
     "output_type": "execute_result"
    }
   ],
   "source": [
    "# comparing with linear regression (similar RMSE, the same when lambda = 0)\n",
    "\n",
    "from sklearn.linear_model import LinearRegression\n",
    "model_linear = LinearRegression()\n",
    "model_linear = LinearRegression()\n",
    "model_linear.fit(scaled_X_train, y_train)\n",
    "y_pred = model_linear.predict(scaled_X_test)\n",
    "np.sqrt (mean_squared_error (y_test, y_pred)), mean_absolute_error (y_test, y_pred)\n"
   ]
  },
  {
   "cell_type": "code",
   "execution_count": 13,
   "metadata": {},
   "outputs": [
    {
     "data": {
      "text/plain": [
       "array([  7.78963284,   0.16524713,   0.58180175, -11.35122755,\n",
       "         4.77455328,  -1.61094033,   0.07752703,   0.24197855,\n",
       "         0.1384483 ,   5.28808537,  -0.78605153,   1.39665099,\n",
       "        -0.03107333,  -0.5613837 ,   0.05225192,  -0.04142188,\n",
       "         0.07302452,  -0.03754884,  -0.21894604])"
      ]
     },
     "execution_count": 13,
     "metadata": {},
     "output_type": "execute_result"
    }
   ],
   "source": [
    "model_linear.coef_"
   ]
  },
  {
   "cell_type": "markdown",
   "metadata": {},
   "source": [
    "## Lasso regression (Linear regression + L1 reg)"
   ]
  },
  {
   "cell_type": "code",
   "execution_count": 6,
   "metadata": {},
   "outputs": [
    {
     "data": {
      "text/plain": [
       "(0.7853962108799017, 0.5735346450114956)"
      ]
     },
     "execution_count": 6,
     "metadata": {},
     "output_type": "execute_result"
    }
   ],
   "source": [
    "from sklearn.linear_model import Lasso\n",
    "model_Lasso = Lasso (alpha = .1)\n",
    "model_Lasso.fit(scaled_X_train, y_train)\n",
    "y_pred = model_Lasso.predict(scaled_X_test)\n",
    "np.sqrt(mean_squared_error(y_test, y_pred)), mean_absolute_error(y_test, y_pred)"
   ]
  },
  {
   "cell_type": "markdown",
   "metadata": {},
   "source": [
    "## K-fold cross-validation"
   ]
  },
  {
   "cell_type": "markdown",
   "metadata": {},
   "source": [
    "* with Ridge regression"
   ]
  },
  {
   "cell_type": "code",
   "execution_count": 8,
   "metadata": {},
   "outputs": [],
   "source": [
    "from sklearn.linear_model import RidgeCV # ridge regression with cross-validation\n",
    "import sklearn.metrics as metrics\n"
   ]
  },
  {
   "cell_type": "code",
   "execution_count": 10,
   "metadata": {},
   "outputs": [
    {
     "name": "stdout",
     "output_type": "stream",
     "text": [
      "0.1\n"
     ]
    }
   ],
   "source": [
    "model_ridgeCV = RidgeCV(alphas = [.0001, .001, .01, .1, .5, 1, 5, 10], scoring = \"neg_mean_squared_error\")\n",
    "model_ridgeCV.fit(scaled_X_train, y_train)\n",
    "print(model_ridgeCV.alpha_)"
   ]
  },
  {
   "cell_type": "code",
   "execution_count": 11,
   "metadata": {},
   "outputs": [
    {
     "data": {
      "text/plain": [
       "(0.5635899169599432, 0.4343075766531668)"
      ]
     },
     "execution_count": 11,
     "metadata": {},
     "output_type": "execute_result"
    }
   ],
   "source": [
    "y_pred = model_ridgeCV.predict(scaled_X_test)\n",
    "RMSE = np.sqrt(mean_squared_error(y_test, y_pred))\n",
    "RMSE, mean_absolute_error(y_test, y_pred)"
   ]
  },
  {
   "cell_type": "code",
   "execution_count": 14,
   "metadata": {},
   "outputs": [
    {
     "data": {
      "text/plain": [
       "array([ 5.84681185,  0.52142086,  0.71689997, -6.17948738,  3.75034058,\n",
       "       -1.36283352, -0.08571128,  0.08322815, -0.34893776,  2.16952446,\n",
       "       -0.47840838,  0.68527348,  0.63080799, -0.5950065 ,  0.61661989,\n",
       "       -0.31335495,  0.36499629,  0.03328145, -0.13652471])"
      ]
     },
     "execution_count": 14,
     "metadata": {},
     "output_type": "execute_result"
    }
   ],
   "source": [
    "model_ridgeCV.coef_"
   ]
  },
  {
   "cell_type": "markdown",
   "metadata": {},
   "source": [
    "* with Lasso regression"
   ]
  },
  {
   "cell_type": "code",
   "execution_count": 15,
   "metadata": {},
   "outputs": [],
   "source": [
    "from sklearn.linear_model import LassoCV"
   ]
  },
  {
   "cell_type": "code",
   "execution_count": 16,
   "metadata": {},
   "outputs": [],
   "source": [
    "model_lassoCV = LassoCV(eps = 0.001, n_alphas = 100, max_iter = 10000, cv = 5)"
   ]
  },
  {
   "cell_type": "markdown",
   "metadata": {},
   "source": [
    "* eps - параметр, который определяет критерий остановки для итерационного процесса оптимизации. Алгоритм Lasso будет прекращать итерации, если изменение в весах (коэффициентах) становится меньше eps.\n",
    "\n",
    "* n_alphas: Количество значений коэффициента регуляризации (альфа), которые будут протестированы в процессе кросс-валидации. В данном случае, 100 различных значений.\n",
    "\n",
    "* max_iter: Максимальное количество итераций для оптимизационного алгоритма. Если алгоритм не сходится к оптимальному решению в пределах этого количества итераций, он прекращает работу."
   ]
  },
  {
   "cell_type": "code",
   "execution_count": 17,
   "metadata": {},
   "outputs": [
    {
     "data": {
      "text/plain": [
       "0.004968802520343365"
      ]
     },
     "execution_count": 17,
     "metadata": {},
     "output_type": "execute_result"
    }
   ],
   "source": [
    "model_lassoCV.fit(scaled_X_train, y_train)\n",
    "model_lassoCV.alpha_"
   ]
  },
  {
   "cell_type": "code",
   "execution_count": 18,
   "metadata": {},
   "outputs": [
    {
     "data": {
      "text/plain": [
       "(0.5785146895301981, 0.4629188302693299)"
      ]
     },
     "execution_count": 18,
     "metadata": {},
     "output_type": "execute_result"
    }
   ],
   "source": [
    "y_pred = model_lassoCV.predict(scaled_X_test)\n",
    "np.sqrt(mean_squared_error(y_test,y_pred)), mean_absolute_error(y_test, y_pred)"
   ]
  },
  {
   "cell_type": "code",
   "execution_count": 19,
   "metadata": {},
   "outputs": [
    {
     "data": {
      "text/plain": [
       "array([ 5.19612354,  0.43037087,  0.29876351, -4.80417579,  3.46665205,\n",
       "       -0.40507212,  0.        ,  0.        ,  0.        ,  1.35260206,\n",
       "       -0.        ,  0.        ,  0.14879719, -0.        ,  0.        ,\n",
       "        0.        ,  0.09649665,  0.        ,  0.04353956])"
      ]
     },
     "execution_count": 19,
     "metadata": {},
     "output_type": "execute_result"
    }
   ],
   "source": [
    "model_lassoCV.coef_"
   ]
  },
  {
   "cell_type": "markdown",
   "metadata": {},
   "source": [
    "## Elastic net"
   ]
  },
  {
   "cell_type": "code",
   "execution_count": 20,
   "metadata": {},
   "outputs": [],
   "source": [
    "from sklearn.linear_model import ElasticNetCV"
   ]
  },
  {
   "cell_type": "code",
   "execution_count": 23,
   "metadata": {},
   "outputs": [
    {
     "name": "stdout",
     "output_type": "stream",
     "text": [
      "L1 ratio: 1.0, lambda: 0.004968802520343365\n"
     ]
    }
   ],
   "source": [
    "model_elastic = ElasticNetCV(l1_ratio = [.1, .5, .7, .9, .95, .99, 1], eps = 0.001, n_alphas = 100, max_iter = 10000, cv = 5)\n",
    "model_elastic.fit(scaled_X_train, y_train)\n",
    "print(f\"L1 ratio: {model_elastic.l1_ratio_}, lambda: {model_elastic.alpha_}\")"
   ]
  },
  {
   "cell_type": "code",
   "execution_count": 24,
   "metadata": {},
   "outputs": [
    {
     "data": {
      "text/plain": [
       "(0.5785146895301981, 0.4629188302693299)"
      ]
     },
     "execution_count": 24,
     "metadata": {},
     "output_type": "execute_result"
    }
   ],
   "source": [
    "y_pred = model_elastic.predict(scaled_X_test)\n",
    "np.sqrt(mean_squared_error(y_test, y_pred)), mean_absolute_error(y_test, y_pred)"
   ]
  }
 ],
 "metadata": {
  "kernelspec": {
   "display_name": "GitHub-ARbJjTr-",
   "language": "python",
   "name": "python3"
  },
  "language_info": {
   "codemirror_mode": {
    "name": "ipython",
    "version": 3
   },
   "file_extension": ".py",
   "mimetype": "text/x-python",
   "name": "python",
   "nbconvert_exporter": "python",
   "pygments_lexer": "ipython3",
   "version": "3.11.5"
  }
 },
 "nbformat": 4,
 "nbformat_minor": 2
}
