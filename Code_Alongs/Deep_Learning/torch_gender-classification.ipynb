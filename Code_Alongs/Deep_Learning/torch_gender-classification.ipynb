{
 "cells": [
  {
   "cell_type": "markdown",
   "id": "f5d089aa",
   "metadata": {
    "papermill": {
     "duration": 0.004872,
     "end_time": "2024-10-27T15:53:10.395021",
     "exception": false,
     "start_time": "2024-10-27T15:53:10.390149",
     "status": "completed"
    },
    "tags": []
   },
   "source": [
    "# Imports"
   ]
  },
  {
   "cell_type": "code",
   "execution_count": 3,
   "id": "c6a375d9",
   "metadata": {
    "_cell_guid": "b1076dfc-b9ad-4769-8c92-a6c4dae69d19",
    "_uuid": "8f2839f25d086af736a60e9eeb907d3b93b6e0e5",
    "execution": {
     "iopub.execute_input": "2024-10-27T15:53:10.405211Z",
     "iopub.status.busy": "2024-10-27T15:53:10.404815Z",
     "iopub.status.idle": "2024-10-27T15:53:15.249055Z",
     "shell.execute_reply": "2024-10-27T15:53:15.248184Z"
    },
    "papermill": {
     "duration": 4.851966,
     "end_time": "2024-10-27T15:53:15.251501",
     "exception": false,
     "start_time": "2024-10-27T15:53:10.399535",
     "status": "completed"
    },
    "tags": []
   },
   "outputs": [],
   "source": [
    "import matplotlib.pyplot as plt # For visualization\n",
    "\n",
    "#To create and train the model\n",
    "import torch\n",
    "import torch.nn as nn\n",
    "\n",
    "#For loading in the image data\n",
    "from torchvision import datasets, transforms\n",
    "from torch.utils.data import DataLoader"
   ]
  },
  {
   "cell_type": "markdown",
   "id": "0978659c",
   "metadata": {
    "papermill": {
     "duration": 0.004243,
     "end_time": "2024-10-27T15:53:15.260401",
     "exception": false,
     "start_time": "2024-10-27T15:53:15.256158",
     "status": "completed"
    },
    "tags": []
   },
   "source": [
    "# Setting the device we are going to use"
   ]
  },
  {
   "cell_type": "code",
   "execution_count": 4,
   "id": "0852c41c",
   "metadata": {
    "execution": {
     "iopub.execute_input": "2024-10-27T15:53:15.270721Z",
     "iopub.status.busy": "2024-10-27T15:53:15.269876Z",
     "iopub.status.idle": "2024-10-27T15:53:15.274197Z",
     "shell.execute_reply": "2024-10-27T15:53:15.273314Z"
    },
    "papermill": {
     "duration": 0.011281,
     "end_time": "2024-10-27T15:53:15.276030",
     "exception": false,
     "start_time": "2024-10-27T15:53:15.264749",
     "status": "completed"
    },
    "tags": []
   },
   "outputs": [],
   "source": [
    "device = torch.device(\"cuda\")"
   ]
  },
  {
   "cell_type": "markdown",
   "id": "a49b0986",
   "metadata": {
    "papermill": {
     "duration": 0.003968,
     "end_time": "2024-10-27T15:53:15.284455",
     "exception": false,
     "start_time": "2024-10-27T15:53:15.280487",
     "status": "completed"
    },
    "tags": []
   },
   "source": [
    "# Loading in the data"
   ]
  },
  {
   "cell_type": "code",
   "execution_count": 7,
   "id": "24c3dfbe",
   "metadata": {},
   "outputs": [
    {
     "name": "stderr",
     "output_type": "stream",
     "text": [
      "c:\\Users\\mkavalio\\CodeZone\\Machine_Learning_Mary-Kavalionak\\.venv\\Lib\\site-packages\\tqdm\\auto.py:21: TqdmWarning: IProgress not found. Please update jupyter and ipywidgets. See https://ipywidgets.readthedocs.io/en/stable/user_install.html\n",
      "  from .autonotebook import tqdm as notebook_tqdm\n"
     ]
    },
    {
     "name": "stdout",
     "output_type": "stream",
     "text": [
      "Downloading from https://www.kaggle.com/api/v1/datasets/download/shrike2005/gender-classification-utk-face-dataset?dataset_version_number=1...\n"
     ]
    },
    {
     "name": "stderr",
     "output_type": "stream",
     "text": [
      "100%|██████████| 116M/116M [00:11<00:00, 10.3MB/s] "
     ]
    },
    {
     "name": "stdout",
     "output_type": "stream",
     "text": [
      "Extracting files...\n"
     ]
    },
    {
     "name": "stderr",
     "output_type": "stream",
     "text": [
      "\n"
     ]
    },
    {
     "name": "stdout",
     "output_type": "stream",
     "text": [
      "Path to dataset files: C:\\Users\\mkavalio\\.cache\\kagglehub\\datasets\\shrike2005\\gender-classification-utk-face-dataset\\versions\\1\n"
     ]
    }
   ],
   "source": [
    "import kagglehub\n",
    "\n",
    "# Download latest version\n",
    "path = kagglehub.dataset_download(\"shrike2005/gender-classification-utk-face-dataset\")\n",
    "\n",
    "print(\"Path to dataset files:\", path)"
   ]
  },
  {
   "cell_type": "code",
   "execution_count": 8,
   "id": "c616e8ca",
   "metadata": {
    "execution": {
     "iopub.execute_input": "2024-10-27T15:53:15.294922Z",
     "iopub.status.busy": "2024-10-27T15:53:15.294606Z",
     "iopub.status.idle": "2024-10-27T15:53:33.821119Z",
     "shell.execute_reply": "2024-10-27T15:53:33.820115Z"
    },
    "papermill": {
     "duration": 18.534883,
     "end_time": "2024-10-27T15:53:33.823495",
     "exception": false,
     "start_time": "2024-10-27T15:53:15.288612",
     "status": "completed"
    },
    "tags": []
   },
   "outputs": [],
   "source": [
    "dataset = datasets.ImageFolder(\n",
    "    root=path, #Location of our data folder\n",
    "    transform=transforms.ToTensor() #Converts the values in our data into a good format for machine learning\n",
    ")"
   ]
  },
  {
   "cell_type": "code",
   "execution_count": 9,
   "id": "695747b2",
   "metadata": {
    "execution": {
     "iopub.execute_input": "2024-10-27T15:53:33.833749Z",
     "iopub.status.busy": "2024-10-27T15:53:33.833431Z",
     "iopub.status.idle": "2024-10-27T15:53:33.838127Z",
     "shell.execute_reply": "2024-10-27T15:53:33.837270Z"
    },
    "papermill": {
     "duration": 0.011984,
     "end_time": "2024-10-27T15:53:33.840164",
     "exception": false,
     "start_time": "2024-10-27T15:53:33.828180",
     "status": "completed"
    },
    "tags": []
   },
   "outputs": [],
   "source": [
    "dataloader = DataLoader(dataset, batch_size=256, shuffle=True, num_workers=4, prefetch_factor=10) \n",
    "# Converts the data we loaded in into batches of 256 examples in each batch"
   ]
  },
  {
   "cell_type": "markdown",
   "id": "9ad20001",
   "metadata": {
    "papermill": {
     "duration": 0.00401,
     "end_time": "2024-10-27T15:53:33.848417",
     "exception": false,
     "start_time": "2024-10-27T15:53:33.844407",
     "status": "completed"
    },
    "tags": []
   },
   "source": [
    "# The Model"
   ]
  },
  {
   "cell_type": "code",
   "execution_count": 11,
   "id": "96b492ba",
   "metadata": {
    "execution": {
     "iopub.execute_input": "2024-10-27T15:53:33.858468Z",
     "iopub.status.busy": "2024-10-27T15:53:33.857752Z",
     "iopub.status.idle": "2024-10-27T15:53:34.119022Z",
     "shell.execute_reply": "2024-10-27T15:53:34.118015Z"
    },
    "papermill": {
     "duration": 0.268607,
     "end_time": "2024-10-27T15:53:34.121317",
     "exception": false,
     "start_time": "2024-10-27T15:53:33.852710",
     "status": "completed"
    },
    "tags": []
   },
   "outputs": [],
   "source": [
    "model = nn.Sequential(\n",
    "    nn.Conv2d(3, 64, 3), # Maps important details on the images to create another set of 64 images called features\n",
    "    nn.ReLU(), # removes negative parts and exentuates important parts of the features\n",
    "    nn.AdaptiveAvgPool2d(1), # takes the average of each feature as a measure of how prevelant it is\n",
    "    nn.Flatten(), # converts the averages into a suitable format for the linear layer\n",
    "    nn.Linear( 64, 2 ), #64 num as an input and 2 as an output \n",
    "    # takes all the features and converts them into two predictions for how likely it is a man or a woman\n",
    "    nn.Softmax(dim=1) # Creates a probability distribution from the output of the linear\n",
    ") "
   ]
  },
  {
   "cell_type": "markdown",
   "id": "a6b21678",
   "metadata": {
    "papermill": {
     "duration": 0.004263,
     "end_time": "2024-10-27T15:53:34.130072",
     "exception": false,
     "start_time": "2024-10-27T15:53:34.125809",
     "status": "completed"
    },
    "tags": []
   },
   "source": [
    "# Training the Model"
   ]
  },
  {
   "cell_type": "code",
   "execution_count": 12,
   "id": "c0875414",
   "metadata": {
    "execution": {
     "iopub.execute_input": "2024-10-27T15:53:34.139778Z",
     "iopub.status.busy": "2024-10-27T15:53:34.139446Z",
     "iopub.status.idle": "2024-10-27T15:53:34.144513Z",
     "shell.execute_reply": "2024-10-27T15:53:34.143695Z"
    },
    "papermill": {
     "duration": 0.012104,
     "end_time": "2024-10-27T15:53:34.146320",
     "exception": false,
     "start_time": "2024-10-27T15:53:34.134216",
     "status": "completed"
    },
    "tags": []
   },
   "outputs": [],
   "source": [
    "optim = torch.optim.Adam(model.parameters()) # The adam optimizer is a method to train our model which tries to minimize the loss function  \n",
    "loss_fn = nn.CrossEntropyLoss() # A function to evaluate how well we did on a batch of images\n",
    "# loss_fn = loss_fn.to(device) # put the loss function on the gpu"
   ]
  },
  {
   "cell_type": "code",
   "execution_count": 15,
   "id": "56b82452",
   "metadata": {
    "execution": {
     "iopub.execute_input": "2024-10-27T15:53:34.155759Z",
     "iopub.status.busy": "2024-10-27T15:53:34.155468Z",
     "iopub.status.idle": "2024-10-27T15:53:34.159245Z",
     "shell.execute_reply": "2024-10-27T15:53:34.158373Z"
    },
    "papermill": {
     "duration": 0.010584,
     "end_time": "2024-10-27T15:53:34.161112",
     "exception": false,
     "start_time": "2024-10-27T15:53:34.150528",
     "status": "completed"
    },
    "tags": []
   },
   "outputs": [],
   "source": [
    "train_loss = []\n",
    "test_loss = []"
   ]
  },
  {
   "cell_type": "code",
   "execution_count": 14,
   "id": "1196bc68",
   "metadata": {
    "execution": {
     "iopub.execute_input": "2024-10-27T15:53:34.170614Z",
     "iopub.status.busy": "2024-10-27T15:53:34.170338Z",
     "iopub.status.idle": "2024-10-27T15:53:34.257576Z",
     "shell.execute_reply": "2024-10-27T15:53:34.256657Z"
    },
    "papermill": {
     "duration": 0.094352,
     "end_time": "2024-10-27T15:53:34.259668",
     "exception": false,
     "start_time": "2024-10-27T15:53:34.165316",
     "status": "completed"
    },
    "tags": []
   },
   "outputs": [],
   "source": [
    "from tqdm.notebook import tqdm"
   ]
  },
  {
   "cell_type": "code",
   "execution_count": 19,
   "id": "c4106673",
   "metadata": {},
   "outputs": [
    {
     "ename": "KeyboardInterrupt",
     "evalue": "",
     "output_type": "error",
     "traceback": [
      "\u001b[1;31m---------------------------------------------------------------------------\u001b[0m",
      "\u001b[1;31mKeyboardInterrupt\u001b[0m                         Traceback (most recent call last)",
      "Cell \u001b[1;32mIn[19], line 4\u001b[0m\n\u001b[0;32m      2\u001b[0m \u001b[38;5;28;01mfor\u001b[39;00m images, labels \u001b[38;5;129;01min\u001b[39;00m dataloader:\n\u001b[0;32m      3\u001b[0m     optim\u001b[38;5;241m.\u001b[39mzero_grad()\n\u001b[1;32m----> 4\u001b[0m     predictions \u001b[38;5;241m=\u001b[39m \u001b[43mmodel\u001b[49m\u001b[43m(\u001b[49m\u001b[43mimages\u001b[49m\u001b[43m)\u001b[49m\n\u001b[0;32m      5\u001b[0m     loss \u001b[38;5;241m=\u001b[39m loss_fn(predictions, labels)\n\u001b[0;32m      6\u001b[0m     loss\u001b[38;5;241m.\u001b[39mbackward() \n",
      "File \u001b[1;32mc:\\Users\\mkavalio\\CodeZone\\Machine_Learning_Mary-Kavalionak\\.venv\\Lib\\site-packages\\torch\\nn\\modules\\module.py:1736\u001b[0m, in \u001b[0;36mModule._wrapped_call_impl\u001b[1;34m(self, *args, **kwargs)\u001b[0m\n\u001b[0;32m   1734\u001b[0m     \u001b[38;5;28;01mreturn\u001b[39;00m \u001b[38;5;28mself\u001b[39m\u001b[38;5;241m.\u001b[39m_compiled_call_impl(\u001b[38;5;241m*\u001b[39margs, \u001b[38;5;241m*\u001b[39m\u001b[38;5;241m*\u001b[39mkwargs)  \u001b[38;5;66;03m# type: ignore[misc]\u001b[39;00m\n\u001b[0;32m   1735\u001b[0m \u001b[38;5;28;01melse\u001b[39;00m:\n\u001b[1;32m-> 1736\u001b[0m     \u001b[38;5;28;01mreturn\u001b[39;00m \u001b[38;5;28;43mself\u001b[39;49m\u001b[38;5;241;43m.\u001b[39;49m\u001b[43m_call_impl\u001b[49m\u001b[43m(\u001b[49m\u001b[38;5;241;43m*\u001b[39;49m\u001b[43margs\u001b[49m\u001b[43m,\u001b[49m\u001b[43m \u001b[49m\u001b[38;5;241;43m*\u001b[39;49m\u001b[38;5;241;43m*\u001b[39;49m\u001b[43mkwargs\u001b[49m\u001b[43m)\u001b[49m\n",
      "File \u001b[1;32mc:\\Users\\mkavalio\\CodeZone\\Machine_Learning_Mary-Kavalionak\\.venv\\Lib\\site-packages\\torch\\nn\\modules\\module.py:1747\u001b[0m, in \u001b[0;36mModule._call_impl\u001b[1;34m(self, *args, **kwargs)\u001b[0m\n\u001b[0;32m   1742\u001b[0m \u001b[38;5;66;03m# If we don't have any hooks, we want to skip the rest of the logic in\u001b[39;00m\n\u001b[0;32m   1743\u001b[0m \u001b[38;5;66;03m# this function, and just call forward.\u001b[39;00m\n\u001b[0;32m   1744\u001b[0m \u001b[38;5;28;01mif\u001b[39;00m \u001b[38;5;129;01mnot\u001b[39;00m (\u001b[38;5;28mself\u001b[39m\u001b[38;5;241m.\u001b[39m_backward_hooks \u001b[38;5;129;01mor\u001b[39;00m \u001b[38;5;28mself\u001b[39m\u001b[38;5;241m.\u001b[39m_backward_pre_hooks \u001b[38;5;129;01mor\u001b[39;00m \u001b[38;5;28mself\u001b[39m\u001b[38;5;241m.\u001b[39m_forward_hooks \u001b[38;5;129;01mor\u001b[39;00m \u001b[38;5;28mself\u001b[39m\u001b[38;5;241m.\u001b[39m_forward_pre_hooks\n\u001b[0;32m   1745\u001b[0m         \u001b[38;5;129;01mor\u001b[39;00m _global_backward_pre_hooks \u001b[38;5;129;01mor\u001b[39;00m _global_backward_hooks\n\u001b[0;32m   1746\u001b[0m         \u001b[38;5;129;01mor\u001b[39;00m _global_forward_hooks \u001b[38;5;129;01mor\u001b[39;00m _global_forward_pre_hooks):\n\u001b[1;32m-> 1747\u001b[0m     \u001b[38;5;28;01mreturn\u001b[39;00m \u001b[43mforward_call\u001b[49m\u001b[43m(\u001b[49m\u001b[38;5;241;43m*\u001b[39;49m\u001b[43margs\u001b[49m\u001b[43m,\u001b[49m\u001b[43m \u001b[49m\u001b[38;5;241;43m*\u001b[39;49m\u001b[38;5;241;43m*\u001b[39;49m\u001b[43mkwargs\u001b[49m\u001b[43m)\u001b[49m\n\u001b[0;32m   1749\u001b[0m result \u001b[38;5;241m=\u001b[39m \u001b[38;5;28;01mNone\u001b[39;00m\n\u001b[0;32m   1750\u001b[0m called_always_called_hooks \u001b[38;5;241m=\u001b[39m \u001b[38;5;28mset\u001b[39m()\n",
      "File \u001b[1;32mc:\\Users\\mkavalio\\CodeZone\\Machine_Learning_Mary-Kavalionak\\.venv\\Lib\\site-packages\\torch\\nn\\modules\\container.py:250\u001b[0m, in \u001b[0;36mSequential.forward\u001b[1;34m(self, input)\u001b[0m\n\u001b[0;32m    248\u001b[0m \u001b[38;5;28;01mdef\u001b[39;00m \u001b[38;5;21mforward\u001b[39m(\u001b[38;5;28mself\u001b[39m, \u001b[38;5;28minput\u001b[39m):\n\u001b[0;32m    249\u001b[0m     \u001b[38;5;28;01mfor\u001b[39;00m module \u001b[38;5;129;01min\u001b[39;00m \u001b[38;5;28mself\u001b[39m:\n\u001b[1;32m--> 250\u001b[0m         \u001b[38;5;28minput\u001b[39m \u001b[38;5;241m=\u001b[39m module(\u001b[38;5;28minput\u001b[39m)\n\u001b[0;32m    251\u001b[0m     \u001b[38;5;28;01mreturn\u001b[39;00m \u001b[38;5;28minput\u001b[39m\n",
      "\u001b[1;31mKeyboardInterrupt\u001b[0m: "
     ]
    }
   ],
   "source": [
    "# alternative code from the lecture\n",
    "for images, labels in dataloader:\n",
    "    optim.zero_grad()\n",
    "    predictions = model(images)\n",
    "    loss = loss_fn(predictions, labels)\n",
    "    loss.backward() \n",
    "    optim.step()\n",
    "\n",
    "# was executing for a while\n"
   ]
  },
  {
   "cell_type": "code",
   "execution_count": null,
   "id": "16b86af2",
   "metadata": {
    "execution": {
     "iopub.execute_input": "2024-10-27T15:53:34.270095Z",
     "iopub.status.busy": "2024-10-27T15:53:34.269402Z",
     "iopub.status.idle": "2024-10-27T15:54:05.162522Z",
     "shell.execute_reply": "2024-10-27T15:54:05.161434Z"
    },
    "papermill": {
     "duration": 30.904433,
     "end_time": "2024-10-27T15:54:05.168637",
     "exception": false,
     "start_time": "2024-10-27T15:53:34.264204",
     "status": "completed"
    },
    "tags": []
   },
   "outputs": [],
   "source": [
    "for _ in (range(5)): # repeat training several times\n",
    "    #avg_loss = 0\n",
    "    epoch_loss = 0 # The cummulated loss over all the batches\n",
    "    for images, labels in dataloader: # Loop over all batches and take out the images, labels\n",
    "        #images = images.to(device, non_blocking=True) # Put the images on the gpu\n",
    "        #labels = labels.to(device, non_blocking=True) # Put the labels on the gpu\n",
    "\n",
    "        optim.zero_grad() #Reset the optimizer for the next step\n",
    "\n",
    "        preds = model.forward(images) #Run the images through the model to produce a set of predictions\n",
    "        loss = loss_fn(preds, labels) # Evaluate the model to see how well it did\n",
    "        \n",
    "        loss.backward() # Compute the loss in each layer of the model\n",
    "        optim.step() # Optimize the model\n",
    "        \n",
    "        epoch_loss += loss.item() # add the loss of the current batch to the epoch_loss\n",
    "        #avg_loss /= len(dataloader) # Calculate the average loss over the epoch\n",
    "        train_loss.append(epoch_loss/len(dataloader))"
   ]
  },
  {
   "cell_type": "code",
   "execution_count": 27,
   "id": "665a86d4",
   "metadata": {},
   "outputs": [
    {
     "data": {
      "text/plain": [
       "torch.Tensor"
      ]
     },
     "execution_count": 27,
     "metadata": {},
     "output_type": "execute_result"
    }
   ],
   "source": [
    "type(images)"
   ]
  },
  {
   "cell_type": "code",
   "execution_count": 29,
   "id": "a047b364",
   "metadata": {
    "execution": {
     "iopub.execute_input": "2024-10-27T15:54:05.179614Z",
     "iopub.status.busy": "2024-10-27T15:54:05.178838Z",
     "iopub.status.idle": "2024-10-27T15:54:05.441830Z",
     "shell.execute_reply": "2024-10-27T15:54:05.440903Z"
    },
    "papermill": {
     "duration": 0.270826,
     "end_time": "2024-10-27T15:54:05.444039",
     "exception": false,
     "start_time": "2024-10-27T15:54:05.173213",
     "status": "completed"
    },
    "tags": []
   },
   "outputs": [
    {
     "data": {
      "text/plain": [
       "[<matplotlib.lines.Line2D at 0x1d0f1d73b60>]"
      ]
     },
     "execution_count": 29,
     "metadata": {},
     "output_type": "execute_result"
    },
    {
     "data": {
      "image/png": "[encoded data removed]",
      "text/plain": [
       "<Figure size 640x480 with 1 Axes>"
      ]
     },
     "metadata": {},
     "output_type": "display_data"
    }
   ],
   "source": [
    "plt.plot(train_loss)"
   ]
  },
  {
   "cell_type": "markdown",
   "id": "e3c42fb5",
   "metadata": {
    "papermill": {
     "duration": 0.004785,
     "end_time": "2024-10-27T15:54:05.454039",
     "exception": false,
     "start_time": "2024-10-27T15:54:05.449254",
     "status": "completed"
    },
    "tags": []
   },
   "source": []
  },
  {
   "cell_type": "code",
   "execution_count": 31,
   "id": "d213315d",
   "metadata": {},
   "outputs": [
    {
     "name": "stdout",
     "output_type": "stream",
     "text": [
      "tensor(1.)\n"
     ]
    }
   ],
   "source": [
    "avg_accuracy = 0\n",
    "for images, labels in dataloader:\n",
    "    predictions = model(images)\n",
    "    accuracy = sum(torch.argmax(predictions, dim =1) == labels) / len(images)\n",
    "    avg_accuracy += accuracy\n",
    "avg_accuracy /= len(dataloader)\n",
    "print(avg_accuracy)"
   ]
  }
 ],
 "metadata": {
  "kaggle": {
   "accelerator": "gpu",
   "dataSources": [
    {
     "datasetId": 5932315,
     "sourceId": 9701047,
     "sourceType": "datasetVersion"
    }
   ],
   "dockerImageVersionId": 30786,
   "isGpuEnabled": true,
   "isInternetEnabled": true,
   "language": "python",
   "sourceType": "notebook"
  },
  "kernelspec": {
   "display_name": ".venv",
   "language": "python",
   "name": "python3"
  },
  "language_info": {
   "codemirror_mode": {
    "name": "ipython",
    "version": 3
   },
   "file_extension": ".py",
   "mimetype": "text/x-python",
   "name": "python",
   "nbconvert_exporter": "python",
   "pygments_lexer": "ipython3",
   "version": "3.12.7"
  },
  "papermill": {
   "default_parameters": {},
   "duration": 59.095936,
   "end_time": "2024-10-27T15:54:06.780348",
   "environment_variables": {},
   "exception": null,
   "input_path": "__notebook__.ipynb",
   "output_path": "__notebook__.ipynb",
   "parameters": {},
   "start_time": "2024-10-27T15:53:07.684412",
   "version": "2.6.0"
  },
  "widgets": {
   "application/vnd.jupyter.widget-state+json": {
    "state": {
     "040ff30b7d0e49db82c65ee668c43cc1": {
      "model_module": "@jupyter-widgets/controls",
      "model_module_version": "1.5.0",
      "model_name": "FloatProgressModel",
      "state": {
       "_dom_classes": [],
       "_model_module": "@jupyter-widgets/controls",
       "_model_module_version": "1.5.0",
       "_model_name": "FloatProgressModel",
       "_view_count": null,
       "_view_module": "@jupyter-widgets/controls",
       "_view_module_version": "1.5.0",
       "_view_name": "ProgressView",
       "bar_style": "success",
       "description": "",
       "description_tooltip": null,
       "layout": "IPY_MODEL_ce5905097c6041189ce31d3cc6f843bb",
       "max": 1,
       "min": 0,
       "orientation": "horizontal",
       "style": "IPY_MODEL_48f4b7b593ef4f2eaa88c2a01902ca08",
       "value": 1
      }
     },
     "290654c6532f4e08806bad2af1a9837a": {
      "model_module": "@jupyter-widgets/base",
      "model_module_version": "1.2.0",
      "model_name": "LayoutModel",
      "state": {
       "_model_module": "@jupyter-widgets/base",
       "_model_module_version": "1.2.0",
       "_model_name": "LayoutModel",
       "_view_count": null,
       "_view_module": "@jupyter-widgets/base",
       "_view_module_version": "1.2.0",
       "_view_name": "LayoutView",
       "align_content": null,
       "align_items": null,
       "align_self": null,
       "border": null,
       "bottom": null,
       "display": null,
       "flex": null,
       "flex_flow": null,
       "grid_area": null,
       "grid_auto_columns": null,
       "grid_auto_flow": null,
       "grid_auto_rows": null,
       "grid_column": null,
       "grid_gap": null,
       "grid_row": null,
       "grid_template_areas": null,
       "grid_template_columns": null,
       "grid_template_rows": null,
       "height": null,
       "justify_content": null,
       "justify_items": null,
       "left": null,
       "margin": null,
       "max_height": null,
       "max_width": null,
       "min_height": null,
       "min_width": null,
       "object_fit": null,
       "object_position": null,
       "order": null,
       "overflow": null,
       "overflow_x": null,
       "overflow_y": null,
       "padding": null,
       "right": null,
       "top": null,
       "visibility": null,
       "width": null
      }
     },
     "2f37f519af3e4ff4bb522c11ac00b18c": {
      "model_module": "@jupyter-widgets/controls",
      "model_module_version": "1.5.0",
      "model_name": "HTMLModel",
      "state": {
       "_dom_classes": [],
       "_model_module": "@jupyter-widgets/controls",
       "_model_module_version": "1.5.0",
       "_model_name": "HTMLModel",
       "_view_count": null,
       "_view_module": "@jupyter-widgets/controls",
       "_view_module_version": "1.5.0",
       "_view_name": "HTMLView",
       "description": "",
       "description_tooltip": null,
       "layout": "IPY_MODEL_7aa236910c394d8ab84ad71e50e3b0d3",
       "placeholder": "​",
       "style": "IPY_MODEL_b47048b7f3b24a83964cecbf30676683",
       "value": "100%"
      }
     },
     "3dafc915edaa49e5921aa930819ee583": {
      "model_module": "@jupyter-widgets/controls",
      "model_module_version": "1.5.0",
      "model_name": "HBoxModel",
      "state": {
       "_dom_classes": [],
       "_model_module": "@jupyter-widgets/controls",
       "_model_module_version": "1.5.0",
       "_model_name": "HBoxModel",
       "_view_count": null,
       "_view_module": "@jupyter-widgets/controls",
       "_view_module_version": "1.5.0",
       "_view_name": "HBoxView",
       "box_style": "",
       "children": [
        "IPY_MODEL_2f37f519af3e4ff4bb522c11ac00b18c",
        "IPY_MODEL_040ff30b7d0e49db82c65ee668c43cc1",
        "IPY_MODEL_fef2f33673e64ddaadcc3694d36346a1"
       ],
       "layout": "IPY_MODEL_290654c6532f4e08806bad2af1a9837a"
      }
     },
     "48f4b7b593ef4f2eaa88c2a01902ca08": {
      "model_module": "@jupyter-widgets/controls",
      "model_module_version": "1.5.0",
      "model_name": "ProgressStyleModel",
      "state": {
       "_model_module": "@jupyter-widgets/controls",
       "_model_module_version": "1.5.0",
       "_model_name": "ProgressStyleModel",
       "_view_count": null,
       "_view_module": "@jupyter-widgets/base",
       "_view_module_version": "1.2.0",
       "_view_name": "StyleView",
       "bar_color": null,
       "description_width": ""
      }
     },
     "53f8609dfcd94f5c9e167c12a7b71c83": {
      "model_module": "@jupyter-widgets/controls",
      "model_module_version": "1.5.0",
      "model_name": "DescriptionStyleModel",
      "state": {
       "_model_module": "@jupyter-widgets/controls",
       "_model_module_version": "1.5.0",
       "_model_name": "DescriptionStyleModel",
       "_view_count": null,
       "_view_module": "@jupyter-widgets/base",
       "_view_module_version": "1.2.0",
       "_view_name": "StyleView",
       "description_width": ""
      }
     },
     "72d2c82ddd6d453188250e661b5586a9": {
      "model_module": "@jupyter-widgets/base",
      "model_module_version": "1.2.0",
      "model_name": "LayoutModel",
      "state": {
       "_model_module": "@jupyter-widgets/base",
       "_model_module_version": "1.2.0",
       "_model_name": "LayoutModel",
       "_view_count": null,
       "_view_module": "@jupyter-widgets/base",
       "_view_module_version": "1.2.0",
       "_view_name": "LayoutView",
       "align_content": null,
       "align_items": null,
       "align_self": null,
       "border": null,
       "bottom": null,
       "display": null,
       "flex": null,
       "flex_flow": null,
       "grid_area": null,
       "grid_auto_columns": null,
       "grid_auto_flow": null,
       "grid_auto_rows": null,
       "grid_column": null,
       "grid_gap": null,
       "grid_row": null,
       "grid_template_areas": null,
       "grid_template_columns": null,
       "grid_template_rows": null,
       "height": null,
       "justify_content": null,
       "justify_items": null,
       "left": null,
       "margin": null,
       "max_height": null,
       "max_width": null,
       "min_height": null,
       "min_width": null,
       "object_fit": null,
       "object_position": null,
       "order": null,
       "overflow": null,
       "overflow_x": null,
       "overflow_y": null,
       "padding": null,
       "right": null,
       "top": null,
       "visibility": null,
       "width": null
      }
     },
     "7aa236910c394d8ab84ad71e50e3b0d3": {
      "model_module": "@jupyter-widgets/base",
      "model_module_version": "1.2.0",
      "model_name": "LayoutModel",
      "state": {
       "_model_module": "@jupyter-widgets/base",
       "_model_module_version": "1.2.0",
       "_model_name": "LayoutModel",
       "_view_count": null,
       "_view_module": "@jupyter-widgets/base",
       "_view_module_version": "1.2.0",
       "_view_name": "LayoutView",
       "align_content": null,
       "align_items": null,
       "align_self": null,
       "border": null,
       "bottom": null,
       "display": null,
       "flex": null,
       "flex_flow": null,
       "grid_area": null,
       "grid_auto_columns": null,
       "grid_auto_flow": null,
       "grid_auto_rows": null,
       "grid_column": null,
       "grid_gap": null,
       "grid_row": null,
       "grid_template_areas": null,
       "grid_template_columns": null,
       "grid_template_rows": null,
       "height": null,
       "justify_content": null,
       "justify_items": null,
       "left": null,
       "margin": null,
       "max_height": null,
       "max_width": null,
       "min_height": null,
       "min_width": null,
       "object_fit": null,
       "object_position": null,
       "order": null,
       "overflow": null,
       "overflow_x": null,
       "overflow_y": null,
       "padding": null,
       "right": null,
       "top": null,
       "visibility": null,
       "width": null
      }
     },
     "b47048b7f3b24a83964cecbf30676683": {
      "model_module": "@jupyter-widgets/controls",
      "model_module_version": "1.5.0",
      "model_name": "DescriptionStyleModel",
      "state": {
       "_model_module": "@jupyter-widgets/controls",
       "_model_module_version": "1.5.0",
       "_model_name": "DescriptionStyleModel",
       "_view_count": null,
       "_view_module": "@jupyter-widgets/base",
       "_view_module_version": "1.2.0",
       "_view_name": "StyleView",
       "description_width": ""
      }
     },
     "ce5905097c6041189ce31d3cc6f843bb": {
      "model_module": "@jupyter-widgets/base",
      "model_module_version": "1.2.0",
      "model_name": "LayoutModel",
      "state": {
       "_model_module": "@jupyter-widgets/base",
       "_model_module_version": "1.2.0",
       "_model_name": "LayoutModel",
       "_view_count": null,
       "_view_module": "@jupyter-widgets/base",
       "_view_module_version": "1.2.0",
       "_view_name": "LayoutView",
       "align_content": null,
       "align_items": null,
       "align_self": null,
       "border": null,
       "bottom": null,
       "display": null,
       "flex": null,
       "flex_flow": null,
       "grid_area": null,
       "grid_auto_columns": null,
       "grid_auto_flow": null,
       "grid_auto_rows": null,
       "grid_column": null,
       "grid_gap": null,
       "grid_row": null,
       "grid_template_areas": null,
       "grid_template_columns": null,
       "grid_template_rows": null,
       "height": null,
       "justify_content": null,
       "justify_items": null,
       "left": null,
       "margin": null,
       "max_height": null,
       "max_width": null,
       "min_height": null,
       "min_width": null,
       "object_fit": null,
       "object_position": null,
       "order": null,
       "overflow": null,
       "overflow_x": null,
       "overflow_y": null,
       "padding": null,
       "right": null,
       "top": null,
       "visibility": null,
       "width": null
      }
     },
     "fef2f33673e64ddaadcc3694d36346a1": {
      "model_module": "@jupyter-widgets/controls",
      "model_module_version": "1.5.0",
      "model_name": "HTMLModel",
      "state": {
       "_dom_classes": [],
       "_model_module": "@jupyter-widgets/controls",
       "_model_module_version": "1.5.0",
       "_model_name": "HTMLModel",
       "_view_count": null,
       "_view_module": "@jupyter-widgets/controls",
       "_view_module_version": "1.5.0",
       "_view_name": "HTMLView",
       "description": "",
       "description_tooltip": null,
       "layout": "IPY_MODEL_72d2c82ddd6d453188250e661b5586a9",
       "placeholder": "​",
       "style": "IPY_MODEL_53f8609dfcd94f5c9e167c12a7b71c83",
       "value": " 1/1 [00:30&lt;00:00, 30.88s/it]"
      }
     }
    },
    "version_major": 2,
    "version_minor": 0
   }
  }
 },
 "nbformat": 4,
 "nbformat_minor": 5
}
