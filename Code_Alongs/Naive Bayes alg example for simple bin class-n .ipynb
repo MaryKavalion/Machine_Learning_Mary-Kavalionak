{
 "cells": [
  {
   "cell_type": "code",
   "execution_count": 1,
   "metadata": {},
   "outputs": [],
   "source": [
    "import numpy as np\n",
    "import matplotlib.pyplot as plt"
   ]
  },
  {
   "cell_type": "code",
   "execution_count": 2,
   "metadata": {},
   "outputs": [
    {
     "data": {
      "text/plain": [
       "array([-1,  1,  1, -1, -1,  1,  1, -1,  1, -1])"
      ]
     },
     "execution_count": 2,
     "metadata": {},
     "output_type": "execute_result"
    }
   ],
   "source": [
    "# обучающая выборка \n",
    "x_train = np.array([[10,50], [20,30], [25,30], [20,60], [15, 70], [40,40], [30, 45], [20,45], [40,30], [7,35]])\n",
    "\n",
    "y_train = np.array([-1, 1, 1, -1, -1, 1, 1, -1, 1, -1])\n",
    "y_train"
   ]
  },
  {
   "cell_type": "code",
   "execution_count": 3,
   "metadata": {},
   "outputs": [
    {
     "name": "stdout",
     "output_type": "stream",
     "text": [
      "31.0 35.0 14.4 52.0\n"
     ]
    }
   ],
   "source": [
    "# математические ожидания ширины и длины для первого и второго класса\n",
    "\n",
    "mw1, ml1 = np.mean(x_train[y_train == 1], axis = 0)\n",
    "mw_1, ml_1 = np.mean(x_train[y_train == -1], axis = 0)\n",
    "\n",
    "print(mw1, ml1, mw_1, ml_1)\n"
   ]
  },
  {
   "cell_type": "code",
   "execution_count": 8,
   "metadata": {},
   "outputs": [
    {
     "name": "stdout",
     "output_type": "stream",
     "text": [
      "Expected values  31.0 35.0 14.4 52.0\n",
      "Variance:  64.0 40.0 27.439999999999998 146.0\n"
     ]
    }
   ],
   "source": [
    "# вычисляем дисперсию\n",
    "\n",
    "sw1, sl1 = np.var(x_train[y_train == 1], axis = 0) \n",
    "sw_1, sl_1 = np.var(x_train[y_train == -1], axis = 0)\n",
    "\n",
    "print ('Expected values ', mw1, ml1, mw_1, ml_1)\n",
    "print ('Variance: ', sw1, sl1, sw_1, sl_1)"
   ]
  },
  {
   "cell_type": "code",
   "execution_count": 11,
   "metadata": {},
   "outputs": [
    {
     "name": "stdout",
     "output_type": "stream",
     "text": [
      "class (0 - caterpillar, 1 - ladybug): 0\n"
     ]
    }
   ],
   "source": [
    "x = [40, 10] # unknown item\n",
    "\n",
    "a_1 = lambda x: -(x[0]- ml_1)**2 / (2*sl_1) - (x[1] - mw_1)**2 / (2*sw_1) # class -1, probability\n",
    "a1 = lambda x: -(x[0]- ml1)**2 / (2*sl1) - (x[1] - mw1)**2 / (2*sw1) # class 1, probability\n",
    "\n",
    "y = np.argmax([a_1(x), a1(x)])\n",
    "\n",
    "print ('class (0 - caterpillar, 1 - ladybug):', y)"
   ]
  }
 ],
 "metadata": {
  "kernelspec": {
   "display_name": "GitHub-ARbJjTr-",
   "language": "python",
   "name": "python3"
  },
  "language_info": {
   "codemirror_mode": {
    "name": "ipython",
    "version": 3
   },
   "file_extension": ".py",
   "mimetype": "text/x-python",
   "name": "python",
   "nbconvert_exporter": "python",
   "pygments_lexer": "ipython3",
   "version": "3.11.5"
  }
 },
 "nbformat": 4,
 "nbformat_minor": 2
}
